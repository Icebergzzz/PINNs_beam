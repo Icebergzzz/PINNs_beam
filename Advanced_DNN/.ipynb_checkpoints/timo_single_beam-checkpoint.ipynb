{
 "cells": [
  {
   "cell_type": "code",
   "execution_count": 1,
   "id": "informal-affiliate",
   "metadata": {},
   "outputs": [],
   "source": [
    "import torch\n",
    "import torch.nn as nn\n",
    "import torch.optim as optim\n",
    "import torch.utils\n",
    "import torch.utils.data\n",
    "from torch.utils.data import DataLoader\n",
    "import matplotlib.pyplot as plt\n",
    "import numpy as np\n",
    "from math import pi"
   ]
  },
  {
   "cell_type": "code",
   "execution_count": 2,
   "id": "raising-coalition",
   "metadata": {},
   "outputs": [],
   "source": [
    "# Define the exact solution\n",
    "def exact_solution_u(x, t):\n",
    "    return (0.5*pi*torch.cos(x)+(x-pi*0.5))*torch.cos(t)\n",
    "\n",
    "def initial_condition_u(x):\n",
    "    return 0.5*pi*torch.cos(x) + (x - pi*0.5)\n",
    "\n",
    "def initial_condition_u_t(x):\n",
    "    return 0.0*pi*torch.cos(x) "
   ]
  },
  {
   "cell_type": "code",
   "execution_count": 3,
   "id": "identified-mountain",
   "metadata": {},
   "outputs": [],
   "source": [
    "# Define the exact solution\n",
    "def exact_solution_p(x, t):\n",
    "    return 0.5*pi*torch.sin(x)*torch.cos(t)\n",
    "\n",
    "def initial_condition_p(x):\n",
    "    return 0.5*pi*torch.sin(x)\n",
    "\n",
    "def initial_condition_p_t(x):\n",
    "    return 0.0*pi*torch.cos(x) "
   ]
  },
  {
   "cell_type": "code",
   "execution_count": null,
   "id": "c2c94efd",
   "metadata": {},
   "outputs": [],
   "source": [
    "# Additional data for acceleration\n",
    "\n",
    "data_pts = 10000\n",
    "\n",
    "x_1 = 0*torch.ones((data_pts)).reshape(-1,1)\n",
    "x_2 = 0.25*pi*torch.ones((data_pts)).reshape(-1,1)\n",
    "x_3 = 0.5*pi*torch.ones((data_pts)).reshape(-1,1)\n",
    "x_4 = 0.75*pi*torch.ones((data_pts)).reshape(-1,1)\n",
    "x_5 = pi*torch.ones((data_pts)).reshape(-1,1)\n",
    "\n",
    "t_data_pts = torch.rand((data_pts, 1))\n",
    "\n",
    "fir_loc = torch.cat([x_1, t_data_pts],1)\n",
    "sec_loc = torch.cat([x_2, t_data_pts],1)\n",
    "thr_loc = torch.cat([x_3, t_data_pts],1)\n",
    "fou_loc = torch.cat([x_4, t_data_pts],1)\n",
    "fif_loc = torch.cat([x_5, t_data_pts],1)\n",
    "\n",
    "a1 = acc_a(fir_loc[:, 0], fir_loc[:, 1])\n",
    "a2 = acc_a(sec_loc[:, 0], sec_loc[:, 1])\n",
    "a3 = acc_a(thr_loc[:, 0], thr_loc[:, 1])\n",
    "a4 = acc_a(fou_loc[:, 0], fou_loc[:, 1])\n",
    "a5 = acc_a(fif_loc[:, 0], fif_loc[:, 1])"
   ]
  },
  {
   "cell_type": "code",
   "execution_count": 4,
   "id": "talented-tract",
   "metadata": {},
   "outputs": [],
   "source": [
    "# assigning number of points\n",
    "initial_pts = 2000 \n",
    "left_boundary_pts = 2000 \n",
    "right_boundary_pts = 2000\n",
    "residual_pts = 10000"
   ]
  },
  {
   "cell_type": "code",
   "execution_count": 5,
   "id": "faced-inquiry",
   "metadata": {},
   "outputs": [],
   "source": [
    "# Type of optimizer (ADAM or LBFGS)\n",
    "opt_type = \"LBFGS\"\n",
    "\n",
    "manualSeed = 1\n",
    "\n",
    "#np.random.seed(manualSeed)\n",
    "#random.seed(manualSeed)\n",
    "torch.manual_seed(manualSeed)\n",
    "\n",
    "x_init = pi*torch.rand((initial_pts,1)) # initial pts\n",
    "t_init = 0*x_init\n",
    "init =  torch.cat([x_init, t_init],1)\n",
    "u_init = initial_condition_u(init[:,0]).reshape(-1, 1)\n",
    "p_init = initial_condition_p(init[:,0]).reshape(-1, 1)\n",
    "w_init = torch.cat([u_init, p_init],1)\n",
    "\n",
    "u_t_init = initial_condition_u_t(init[:,0]).reshape(-1, 1)\n",
    "p_t_init = initial_condition_p_t(init[:,0]).reshape(-1, 1)\n",
    "w_t_init = torch.cat([u_t_init, p_t_init],1)\n",
    "\n",
    "\n",
    "\n",
    "xb_left = torch.zeros((left_boundary_pts, 1)) # left spatial boundary\n",
    "tb_left = torch.rand((left_boundary_pts, 1)) # \n",
    "b_left = torch.cat([xb_left, tb_left ],1)\n",
    "u_b_l = exact_solution_u(xb_left, tb_left)\n",
    "p_b_l = exact_solution_p(xb_left, tb_left)\n",
    "w_b_l = torch.cat([u_b_l, p_b_l],1)\n",
    "\n",
    "\n",
    "\n",
    "xb_right = pi*torch.ones((right_boundary_pts, 1)) # right spatial boundary\n",
    "tb_right = torch.rand((right_boundary_pts, 1)) # right boundary pts\n",
    "b_right = torch.cat([xb_right, tb_right ],1)\n",
    "u_b_r = exact_solution_u(xb_right, tb_right)\n",
    "p_b_r = exact_solution_p(xb_right, tb_right)\n",
    "w_b_r = torch.cat([u_b_r, p_b_r],1)\n",
    "\n",
    "x_interior = pi*torch.rand((residual_pts, 1))\n",
    "t_interior = torch.rand((residual_pts, 1))\n",
    "interior = torch.cat([x_interior, t_interior],1)\n",
    "\n",
    "\n",
    "\n",
    "\n",
    "\n",
    "training_set = DataLoader(torch.utils.data.TensorDataset(init, w_init, w_t_init, b_left,  b_right), batch_size=2000, shuffle=False)"
   ]
  },
  {
   "cell_type": "code",
   "execution_count": 6,
   "id": "recognized-croatia",
   "metadata": {},
   "outputs": [],
   "source": [
    "class NeuralNet(nn.Module):\n",
    "\n",
    "    def __init__(self, input_dimension, output_dimension, n_hidden_layers, neurons):\n",
    "        super(NeuralNet, self).__init__()\n",
    "        # Number of input dimensions n\n",
    "        self.input_dimension = input_dimension\n",
    "        # Number of output dimensions m\n",
    "        self.output_dimension = output_dimension\n",
    "        # Number of neurons per layer \n",
    "        self.neurons = neurons\n",
    "        # Number of hidden layers \n",
    "        self.n_hidden_layers = n_hidden_layers\n",
    "        # Activation function \n",
    "        self.activation = nn.Tanh()\n",
    "        \n",
    "        self.input_layer = nn.Linear(self.input_dimension, self.neurons)\n",
    "        self.hidden_layers = nn.ModuleList([nn.Linear(self.neurons, self.neurons) for _ in range(n_hidden_layers)])\n",
    "        self.output_layer = nn.Linear(self.neurons, self.output_dimension)\n",
    "\n",
    "    def forward(self, x):\n",
    "        # The forward function performs the set of affine and non-linear transformations defining the network \n",
    "        # (see equation above)\n",
    "        x = self.activation(self.input_layer(x))\n",
    "        for k, l in enumerate(self.hidden_layers):\n",
    "            x = self.activation(l(x))\n",
    "        return self.output_layer(x)\n"
   ]
  },
  {
   "cell_type": "code",
   "execution_count": 7,
   "id": "angry-blast",
   "metadata": {},
   "outputs": [],
   "source": [
    "# Model definition\n",
    "my_network = NeuralNet(input_dimension = init.shape[1], output_dimension = w_init.shape[1], n_hidden_layers=4, neurons=20)\n"
   ]
  },
  {
   "cell_type": "code",
   "execution_count": 8,
   "id": "presidential-treasurer",
   "metadata": {},
   "outputs": [],
   "source": [
    "def init_xavier(model, retrain_seed):\n",
    "    torch.manual_seed(retrain_seed)\n",
    "    def init_weights(m):\n",
    "        if type(m) == nn.Linear and m.weight.requires_grad and m.bias.requires_grad:\n",
    "            g = nn.init.calculate_gain('tanh')\n",
    "            torch.nn.init.xavier_uniform_(m.weight, gain=g)\n",
    "            #torch.nn.init.xavier_normal_(m.weight, gain=g)\n",
    "            m.bias.data.fill_(0)\n",
    "    model.apply(init_weights)\n",
    "\n",
    "# Random Seed for weight initialization\n",
    "retrain = 128\n",
    "# Xavier weight initialization\n",
    "init_xavier(my_network, retrain)\n",
    "#print(my_network(init))"
   ]
  },
  {
   "cell_type": "code",
   "execution_count": 9,
   "id": "adjusted-butter",
   "metadata": {},
   "outputs": [],
   "source": [
    "if opt_type == \"ADAM\":\n",
    "    optimizer_ = optim.Adam(my_network.parameters(), lr=0.001)\n",
    "elif opt_type == \"LBFGS\":\n",
    "    optimizer_ = optim.LBFGS(my_network.parameters(), lr=0.1, max_iter=1, max_eval=50000, tolerance_change=1.0 * np.finfo(float).eps)\n",
    "else:\n",
    "    raise ValueError(\"Optimizer not recognized\")"
   ]
  },
  {
   "cell_type": "code",
   "execution_count": 10,
   "id": "physical-distributor",
   "metadata": {},
   "outputs": [],
   "source": [
    "def fit(model, training_set, interior, num_epochs, optimizer, p, verbose=True):\n",
    "    history = list()\n",
    "    \n",
    "    # Loop over epochs\n",
    "    for epoch in range(num_epochs):\n",
    "        if verbose: print(\"################################ \", epoch, \" ################################\")\n",
    "\n",
    "        running_loss = list([0])\n",
    "        \n",
    "        # Loop over batches\n",
    "        for j, (initial, w_initial, w_initial_t, bd_left,  bd_right) in enumerate(training_set):\n",
    "            \n",
    "            def closure():\n",
    "                # zero the parameter gradients\n",
    "                optimizer.zero_grad()\n",
    "                # for initial\n",
    "                initial.requires_grad = True\n",
    "                w_initial_pred_ = model(initial)\n",
    "                u_initial_pred_ = w_initial_pred_[:,0].reshape(-1,1)\n",
    "                p_initial_pred_ = w_initial_pred_[:,1].reshape(-1,1)\n",
    "                \n",
    "                \n",
    "                # with derivative\n",
    "                inpu = torch.ones(initial_pts, 1 )\n",
    "                \n",
    "                grad_u_ini = torch.autograd.grad(u_initial_pred_, initial, grad_outputs=inpu, create_graph=True, allow_unused=True)[0]\n",
    "                \n",
    "                u_initial_t = grad_u_ini[:, 1]\n",
    "                \n",
    "                \n",
    "                grad_p_ini = torch.autograd.grad(p_initial_pred_, initial, grad_outputs=inpu, create_graph=True)[0]\n",
    "                \n",
    "                p_initial_t = grad_p_ini[:, 1]\n",
    "                \n",
    "                \n",
    "                # for left boundary\n",
    "                w_bd_left_pred_ = model(bd_left)\n",
    "                u_bd_left_pred_ = w_bd_left_pred_[:,0].reshape(-1,1)\n",
    "                p_bd_left_pred_ = w_bd_left_pred_[:,1].reshape(-1,1)\n",
    "                # for right boundary\n",
    "                w_bd_right_pred_ = model(bd_right)\n",
    "                u_bd_right_pred_ = w_bd_right_pred_[:,0].reshape(-1,1)\n",
    "                p_bd_right_pred_ = w_bd_right_pred_[:,1].reshape(-1,1)\n",
    "                \n",
    "                # residual calculation\n",
    "                interior.requires_grad = True\n",
    "                w_hat = model(interior)\n",
    "                u_hat = w_hat[:,0].reshape(-1,1)\n",
    "                p_hat = w_hat[:,1].reshape(-1,1)\n",
    "                inputs = torch.ones(residual_pts, 1 )\n",
    "                inputs2 = torch.ones(residual_pts, 1)\n",
    "                grad_u_hat = torch.autograd.grad(u_hat.reshape(-1,1), interior, grad_outputs=inputs, create_graph=True)[0]\n",
    "                \n",
    "                u_x = grad_u_hat[:, 0].reshape(-1,1)\n",
    "                \n",
    "                grad_u_hat_xx = torch.autograd.grad(u_x, interior, grad_outputs=inputs, create_graph=True)[0]\n",
    "                \n",
    "                u_xx = grad_u_hat_xx[:, 0].reshape(-1,1)\n",
    "                \n",
    "                \n",
    "                grad_p_hat = torch.autograd.grad(p_hat, interior, grad_outputs=inputs, create_graph=True)[0]\n",
    "                \n",
    "                p_x = grad_p_hat[:, 0].reshape(-1,1)\n",
    "                \n",
    "                grad_p_hat_xx = torch.autograd.grad(p_x, interior, grad_outputs=inputs, create_graph=True)[0]\n",
    "                \n",
    "                p_xx = grad_p_hat_xx[:, 0].reshape(-1,1)\n",
    "                \n",
    "                \n",
    "                \n",
    "                #grad_grad_u_x = torch.autograd.grad(u_x, interior, grad_outputs=torch.ones(interior.shape[0]), create_graph=True)[0]\n",
    "                #u_xx = grad_grad_u_x[:, 0]\n",
    "                u_t = grad_u_hat[:, 1].reshape(-1,1)\n",
    "                \n",
    "                grad_u_hat_tt = torch.autograd.grad(u_t, interior, grad_outputs=inputs, create_graph=True)[0]\n",
    "                \n",
    "                u_tt = grad_u_hat_tt[:, 1].reshape(-1,1)\n",
    "                \n",
    "                p_t = grad_p_hat[:,1].reshape(-1,1)\n",
    "                grad_p_hat_tt = torch.autograd.grad(p_t, interior, grad_outputs=inputs, create_graph=True)[0]\n",
    "                \n",
    "                p_tt = grad_p_hat_tt[:, 1].reshape(-1,1)\n",
    "                \n",
    "                \n",
    "                \n",
    "                # Item 1. below\n",
    "                loss1 = torch.mean((u_initial_t.reshape(-1, ) - w_initial_t[:,0].reshape(-1, ))**p)+torch.mean((u_initial_pred_.reshape(-1, ) - w_initial[:,0].reshape(-1, ))**p) + 0.1*torch.mean((u_tt.reshape(-1, ) - u_xx.reshape(-1, ) + u_hat.reshape(-1, ) - p_x.reshape(-1, ))**p)+torch.mean((u_bd_left_pred_.reshape(-1,)- u_b_l.reshape(-1,))**p) + torch.mean((u_bd_right_pred_.reshape(-1,)- u_b_r.reshape(-1,))**p)\n",
    "                loss2 = torch.mean((p_initial_pred_.reshape(-1, ) - w_initial[:,1].reshape(-1, ))**p)+ torch.mean((p_initial_t.reshape(-1, ) - w_initial_t[:,1].reshape(-1, ))**p) + 0.1*torch.mean((p_tt.reshape(-1, )  + u_x.reshape(-1, ) - p_xx.reshape(-1, ) - torch.cos(interior[:, 1]).reshape(-1, ) + pi*0.5*torch.sin(interior[:, 0])*torch.cos(interior[:, 1]).reshape(-1, ))**p)+torch.mean((p_bd_left_pred_.reshape(-1,)- p_b_l.reshape(-1,))**p) + torch.mean((p_bd_right_pred_.reshape(-1,)- p_b_r.reshape(-1,))**p)\n",
    "                loss = loss1 + loss2\n",
    "                #loss = torch.max(torch.abs((u_initial_pred_.reshape(-1, ) - u_initial.reshape(-1, )))) + torch.max(torch.abs((u_t.reshape(-1, ) - u_xx.reshape(-1, ))))+torch.max(torch.abs((u_bd_left_pred_.reshape(-1,)))) + torch.max(torch.abs((u_bd_right_pred_.reshape(-1,))))\n",
    " \n",
    "                \n",
    "                # Item 2. below\n",
    "                loss.backward()\n",
    "                # Compute average training loss over batches for the current epoch\n",
    "                running_loss[0] += loss.item()\n",
    "                return loss\n",
    "            \n",
    "            # Item 3. below\n",
    "            optimizer.step(closure=closure)\n",
    "            \n",
    "        print('Loss: ', (running_loss[0] / len(training_set)))\n",
    "        history.append(running_loss[0])\n",
    "\n",
    "    return history\n"
   ]
  },
  {
   "cell_type": "code",
   "execution_count": 11,
   "id": "outdoor-personality",
   "metadata": {
    "scrolled": true
   },
   "outputs": [],
   "source": [
    "#n_epochs = 15000\n",
    "#history = fit(my_network, training_set, interior, n_epochs, optimizer_, p=2, verbose=True )"
   ]
  },
  {
   "cell_type": "code",
   "execution_count": 12,
   "id": "e33d6552",
   "metadata": {},
   "outputs": [
    {
     "data": {
      "text/plain": [
       "NeuralNet(\n",
       "  (activation): Tanh()\n",
       "  (input_layer): Linear(in_features=2, out_features=20, bias=True)\n",
       "  (hidden_layers): ModuleList(\n",
       "    (0): Linear(in_features=20, out_features=20, bias=True)\n",
       "    (1): Linear(in_features=20, out_features=20, bias=True)\n",
       "    (2): Linear(in_features=20, out_features=20, bias=True)\n",
       "    (3): Linear(in_features=20, out_features=20, bias=True)\n",
       "  )\n",
       "  (output_layer): Linear(in_features=20, out_features=2, bias=True)\n",
       ")"
      ]
     },
     "execution_count": 12,
     "metadata": {},
     "output_type": "execute_result"
    }
   ],
   "source": [
    "# saving and loading Model\n",
    "FILE = \"model.pth\"\n",
    "#torch.save(my_network, FILE)\n",
    "\n",
    "# uncomment below when you need to test for different points\n",
    "my_network = torch.load(FILE)\n",
    "my_network.eval()"
   ]
  },
  {
   "cell_type": "code",
   "execution_count": 13,
   "id": "341ae960",
   "metadata": {},
   "outputs": [],
   "source": [
    "# saving and loading Model (this model with reported results)\n",
    "#FILE = \"second.pth\"\n",
    "#torch.save(my_network, FILE)\n",
    "\n",
    "# uncomment below when you need to test for different points\n",
    "#my_network = torch.load(FILE)\n",
    "#my_network.eval()"
   ]
  },
  {
   "cell_type": "code",
   "execution_count": 14,
   "id": "uniform-equality",
   "metadata": {},
   "outputs": [],
   "source": [
    "x_test = torch.linspace(0, pi, 10000).reshape(-1,1)\n",
    "t_test = torch.ones((10000,1))\n",
    "test = torch.cat([x_test, t_test],1)\n",
    "u_test = exact_solution_u(x_test, t_test).reshape(-1,1)\n",
    "p_test = exact_solution_p(x_test, t_test).reshape(-1,1)\n",
    "w_test_pred = my_network(test)\n",
    "u_test_pred = w_test_pred[:,0].reshape(-1,1)\n",
    "p_test_pred = w_test_pred[:,1].reshape(-1,1)"
   ]
  },
  {
   "cell_type": "code",
   "execution_count": 15,
   "id": "backed-lounge",
   "metadata": {},
   "outputs": [
    {
     "data": {
      "text/plain": [
       "<matplotlib.legend.Legend at 0x7f0844da8310>"
      ]
     },
     "execution_count": 15,
     "metadata": {},
     "output_type": "execute_result"
    },
    {
     "data": {
      "image/png": "[encoded data removed]",
      "text/plain": [
       "<Figure size 432x288 with 1 Axes>"
      ]
     },
     "metadata": {
      "needs_background": "light"
     },
     "output_type": "display_data"
    }
   ],
   "source": [
    "plt.grid(True, which=\"both\", ls=\":\")\n",
    "plt.plot(x_test, u_test, label=\"Ground Truth\",lw=2)\n",
    "plt.plot(x_test, u_test_pred.detach(), label=\"Network Prediction\",lw=2)\n",
    "plt.xlabel(\"x\")\n",
    "plt.ylabel(\"u\")\n",
    "plt.legend()"
   ]
  },
  {
   "cell_type": "code",
   "execution_count": 16,
   "id": "moral-conversion",
   "metadata": {},
   "outputs": [
    {
     "name": "stdout",
     "output_type": "stream",
     "text": [
      "Relative Error Test:  0.0028474540158640593 %\n"
     ]
    }
   ],
   "source": [
    "# Compute the relative L2 error norm (generalization error)\n",
    "relative_error_test = torch.mean((u_test_pred - u_test)**2)/torch.mean(u_test**2)\n",
    "#relative_error_test = torch.max(torch.abs(u_test_pred -u_test))/torch.max(torch.abs(u_test))\n",
    "print(\"Relative Error Test: \", relative_error_test.detach().numpy()*100, \"%\")"
   ]
  },
  {
   "cell_type": "code",
   "execution_count": 17,
   "id": "union-aside",
   "metadata": {},
   "outputs": [
    {
     "data": {
      "text/plain": [
       "<matplotlib.legend.Legend at 0x7f0844d2d100>"
      ]
     },
     "execution_count": 17,
     "metadata": {},
     "output_type": "execute_result"
    },
    {
     "data": {
      "image/png": "[encoded data removed]",
      "text/plain": [
       "<Figure size 432x288 with 1 Axes>"
      ]
     },
     "metadata": {
      "needs_background": "light"
     },
     "output_type": "display_data"
    }
   ],
   "source": [
    "plt.grid(True, which=\"both\", ls=\":\")\n",
    "plt.plot(x_test, p_test, label=\"Ground Truth\",lw=2)\n",
    "plt.plot(x_test, p_test_pred.detach(), label=\"Network Prediction\",lw=2)\n",
    "plt.xlabel(\"x\")\n",
    "plt.ylabel(\"u\")\n",
    "plt.legend()"
   ]
  },
  {
   "cell_type": "code",
   "execution_count": 18,
   "id": "agricultural-final",
   "metadata": {},
   "outputs": [
    {
     "name": "stdout",
     "output_type": "stream",
     "text": [
      "Relative Error Test:  0.000337939445671509 %\n"
     ]
    }
   ],
   "source": [
    "# Compute the relative L2 error norm (generalization error)\n",
    "relative_error_test = torch.mean((p_test_pred - p_test)**2)/torch.mean(p_test**2)\n",
    "#relative_error_test = torch.max(torch.abs(u_test_pred -u_test))/torch.max(torch.abs(u_test))\n",
    "print(\"Relative Error Test: \", relative_error_test.detach().numpy()*100, \"%\")"
   ]
  },
  {
   "cell_type": "code",
   "execution_count": 21,
   "id": "813c9f41",
   "metadata": {},
   "outputs": [],
   "source": [
    "#k = torch.autograd.functional.jacobian(my_network, test)"
   ]
  },
  {
   "cell_type": "code",
   "execution_count": 23,
   "id": "2c3d1acf",
   "metadata": {},
   "outputs": [
    {
     "data": {
      "text/plain": [
       "torch.Size([10000, 2, 10000, 2])"
      ]
     },
     "execution_count": 23,
     "metadata": {},
     "output_type": "execute_result"
    }
   ],
   "source": [
    "#k.shape"
   ]
  },
  {
   "cell_type": "code",
   "execution_count": null,
   "id": "07601478",
   "metadata": {},
   "outputs": [],
   "source": []
  },
  {
   "cell_type": "code",
   "execution_count": null,
   "id": "fe743071",
   "metadata": {},
   "outputs": [],
   "source": [
    "# for ploting"
   ]
  },
  {
   "cell_type": "code",
   "execution_count": null,
   "id": "c9806a67",
   "metadata": {},
   "outputs": [],
   "source": [
    "model = my_network\n",
    "x_test = pi*torch.rand(100000).reshape(-1,1)\n",
    "t_test = torch.rand(100000).reshape(-1,1)\n",
    "test = torch.cat([x_test, t_test],1)\n",
    "u_test = exact_solution_u(x_test,t_test).reshape(-1,1)\n",
    "p_test = exact_solution_p(x_test,t_test).reshape(-1,1)\n",
    "u_test_pred = my_network(test)\n",
    "u_pred = u_test_pred[:, 0].reshape(-1,1)\n",
    "\n",
    "u_pred1 = u_test_pred[:, 1].reshape(-1,1)\n",
    "\n",
    "\n",
    "relative_error = torch.abs(u_pred- u_test)\n",
    "\n",
    "relative_error1 = torch.abs(u_pred1- p_test)\n",
    "u_pred = u_pred.detach().numpy()\n",
    "x_test = x_test.detach().numpy()\n",
    "t_test = t_test.detach().numpy()\n",
    "p_pred = u_pred1.detach().numpy()\n",
    "relative_error = relative_error.detach().numpy()\n",
    "relative_error1 = relative_error1.detach().numpy()"
   ]
  },
  {
   "cell_type": "code",
   "execution_count": null,
   "id": "9d3aa502",
   "metadata": {},
   "outputs": [],
   "source": []
  },
  {
   "cell_type": "code",
   "execution_count": null,
   "id": "0924e8e6",
   "metadata": {},
   "outputs": [],
   "source": [
    "\n",
    "x_test = x_test.reshape(-1,)\n",
    "t_test = t_test.reshape(-1,)\n",
    "\n",
    "u_pred = u_pred.reshape(-1,)\n",
    "p_pred = p_pred.reshape(-1,)"
   ]
  },
  {
   "cell_type": "code",
   "execution_count": null,
   "id": "d970fe96",
   "metadata": {},
   "outputs": [],
   "source": [
    "\n",
    "plt.rcParams['figure.figsize'] = [10, 4]\n",
    "\n",
    "\n",
    "CS = plt.tricontourf(x_test, t_test, u_pred, 20, cmap='turbo')\n",
    "\n",
    "\n",
    "cbar = plt.colorbar(CS)\n",
    "for t in cbar.ax.get_yticklabels():\n",
    "     t.set_fontsize(20)\n",
    "\n",
    "\n",
    "plt.xlabel('x', fontsize=20)\n",
    "plt.ylabel('t', fontsize=20)\n",
    "plt.xticks(fontsize=20)\n",
    "plt.yticks(fontsize=20)\n",
    "\n",
    "\n",
    "plt.savefig('timo_u.png', dpi = 300, bbox_inches = \"tight\")"
   ]
  },
  {
   "cell_type": "code",
   "execution_count": null,
   "id": "0c00cdf1",
   "metadata": {},
   "outputs": [],
   "source": [
    "CS = plt.tricontourf(x_test, t_test, p_pred, 20, cmap='turbo')\n",
    "\n",
    "\n",
    "cbar = plt.colorbar(CS)\n",
    "for t in cbar.ax.get_yticklabels():\n",
    "     t.set_fontsize(20)\n",
    "\n",
    "\n",
    "plt.xlabel('x', fontsize=20)\n",
    "plt.ylabel('t', fontsize=20)\n",
    "plt.xticks(fontsize=20)\n",
    "plt.yticks(fontsize=20)\n",
    "\n",
    "plt.savefig('timo_p.png', dpi = 300, bbox_inches = \"tight\")"
   ]
  },
  {
   "cell_type": "code",
   "execution_count": null,
   "id": "d2227683",
   "metadata": {},
   "outputs": [],
   "source": [
    "\n",
    "x_test = x_test.reshape(-1, )\n",
    "t_test = t_test.reshape(-1, )\n",
    "relative_error = relative_error.reshape(-1,)\n",
    "\n",
    "\n",
    "\n",
    "\n",
    "CS = plt.tricontourf(x_test, t_test, relative_error, 20, cmap='turbo')\n",
    "\n",
    "\n",
    "cbar = plt.colorbar(CS)\n",
    "for t in cbar.ax.get_yticklabels():\n",
    "     t.set_fontsize(20)\n",
    "\n",
    "\n",
    "plt.xlabel('x', fontsize=20)\n",
    "plt.ylabel('t', fontsize=20)\n",
    "plt.xticks(fontsize=20)\n",
    "plt.yticks(fontsize=20)\n",
    "\n",
    "plt.savefig('relative_error_timo_u.png', dpi = 300, bbox_inches = \"tight\")"
   ]
  },
  {
   "cell_type": "code",
   "execution_count": null,
   "id": "3cc4c59d",
   "metadata": {},
   "outputs": [],
   "source": [
    "\n",
    "\n",
    "\n",
    "relative_error1 = relative_error1.reshape(-1,)\n",
    "\n",
    "CS = plt.tricontourf(x_test, t_test, relative_error1, 20, cmap='turbo')\n",
    "\n",
    "\n",
    "cbar = plt.colorbar(CS)\n",
    "for t in cbar.ax.get_yticklabels():\n",
    "     t.set_fontsize(20)\n",
    "\n",
    "\n",
    "plt.xlabel('x', fontsize=20)\n",
    "plt.ylabel('t', fontsize=20)\n",
    "plt.xticks(fontsize=20)\n",
    "plt.yticks(fontsize=20)\n",
    "\n",
    "plt.savefig('relative_error_timo_p.png', dpi = 300, bbox_inches = \"tight\")"
   ]
  },
  {
   "cell_type": "code",
   "execution_count": null,
   "id": "0fee1047",
   "metadata": {},
   "outputs": [],
   "source": [
    "\n",
    "\n",
    "\n"
   ]
  },
  {
   "cell_type": "code",
   "execution_count": null,
   "id": "57467206",
   "metadata": {},
   "outputs": [],
   "source": []
  }
 ],
 "metadata": {
  "kernelspec": {
   "display_name": "pytorch",
   "language": "python",
   "name": "pytorch"
  },
  "language_info": {
   "codemirror_mode": {
    "name": "ipython",
    "version": 3
   },
   "file_extension": ".py",
   "mimetype": "text/x-python",
   "name": "python",
   "nbconvert_exporter": "python",
   "pygments_lexer": "ipython3",
   "version": "3.8.10"
  }
 },
 "nbformat": 4,
 "nbformat_minor": 5
}
