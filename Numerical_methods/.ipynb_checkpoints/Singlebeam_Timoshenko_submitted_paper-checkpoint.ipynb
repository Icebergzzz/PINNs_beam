{
 "cells": [
  {
   "cell_type": "code",
   "execution_count": 1,
   "id": "678db8c4",
   "metadata": {},
   "outputs": [],
   "source": [
    "# importing libarary\n",
    "\n",
    "import numpy as np\n",
    "from math import pi, cos, sin\n",
    "import matplotlib.pyplot as plt"
   ]
  },
  {
   "cell_type": "code",
   "execution_count": 2,
   "id": "a1ebf4b9",
   "metadata": {},
   "outputs": [
    {
     "data": {
      "text/plain": [
       "1.0"
      ]
     },
     "execution_count": 2,
     "metadata": {},
     "output_type": "execute_result"
    }
   ],
   "source": [
    "# Set the spatial and time step sizes\n",
    "dx = 0.01\n",
    "dt = 0.01\n",
    "\n",
    "# Set the spatial and time domains\n",
    "x = np.arange(0, pi, dx)\n",
    "t = np.arange(0, 1+dt, dt)\n",
    "dt**2/(dx**2)"
   ]
  },
  {
   "cell_type": "code",
   "execution_count": 3,
   "id": "a08b3db9",
   "metadata": {},
   "outputs": [],
   "source": [
    "# Initialize the solution arrays\n",
    "θ = np.zeros((len(x), len(t)))\n",
    "w = np.zeros((len(x), len(t)))"
   ]
  },
  {
   "cell_type": "code",
   "execution_count": 4,
   "id": "c2636c5e",
   "metadata": {},
   "outputs": [],
   "source": [
    "# Set the initial conditions\n",
    "θ[:,0] = (pi/2)*np.cos(x) + (x-pi/2)\n",
    "w[:,0] = (pi/2)*np.sin(x)\n",
    "\n"
   ]
  },
  {
   "cell_type": "code",
   "execution_count": 5,
   "id": "099e78e3",
   "metadata": {},
   "outputs": [],
   "source": [
    "# Set the first time step using the initial velocity\n",
    "θ[:,1] = θ[:,0] + dt*0\n",
    "w[:,1] = w[:,0] + dt*0"
   ]
  },
  {
   "cell_type": "code",
   "execution_count": 6,
   "id": "aff9ee8c",
   "metadata": {},
   "outputs": [],
   "source": [
    "# Implement the leapfrog method and meaning of boundary conditions is the first and last row are zero,\n",
    "for j in range(1, len(t)-1):\n",
    "    for i in range(1, len(x)-1):\n",
    "        θ[i, j+1] = 2*θ[i, j] - θ[i, j-1] + (dt**2)*( (w[i+1, j] - w[i-1, j])/(2*dx) -  θ[i, j] + (θ[i+1, j] - 2*θ[i, j] + θ[i-1, j])/(dx**2))\n",
    "        w[i, j+1] = 2*w[i, j] - w[i, j-1] + (dt**2)*((cos(t[j]) - (pi/2)*sin(x[i])*cos(t[j])) + (w[i+1, j] + w[i-1, j] - 2*w[i, j])/(dx**2) - (θ[i+1, j] -  θ[i-1, j])/(2*dx))\n",
    "    θ[0,j+1] = θ[-1,j+1] = 0\n",
    "    w[0,j+1] = w[-1,j+1] = 0\n",
    "   \n"
   ]
  },
  {
   "cell_type": "code",
   "execution_count": 7,
   "id": "74deb94d",
   "metadata": {},
   "outputs": [],
   "source": [
    "# Exact solution\n",
    "θ_exact = (pi/2)*np.cos(x)[:,None]*np.cos(1)\n",
    "w_exact = (pi/2)*np.sin(x)[:,None]*np.cos(1)"
   ]
  },
  {
   "cell_type": "code",
   "execution_count": 8,
   "id": "1e3673d4",
   "metadata": {},
   "outputs": [
    {
     "data": {
      "text/plain": [
       "[<matplotlib.lines.Line2D at 0x7fd1d9667c70>]"
      ]
     },
     "execution_count": 8,
     "metadata": {},
     "output_type": "execute_result"
    },
    {
     "data": {
      "image/png": "[encoded data removed]",
      "text/plain": [
       "<Figure size 432x288 with 1 Axes>"
      ]
     },
     "metadata": {
      "needs_background": "light"
     },
     "output_type": "display_data"
    }
   ],
   "source": [
    "plt.plot(x, θ[:, -1])\n",
    "plt.plot(x, θ_exact)"
   ]
  },
  {
   "cell_type": "code",
   "execution_count": 9,
   "id": "0548411d",
   "metadata": {},
   "outputs": [
    {
     "data": {
      "text/plain": [
       "1.0"
      ]
     },
     "execution_count": 9,
     "metadata": {},
     "output_type": "execute_result"
    }
   ],
   "source": [
    "dt**2/dx**2"
   ]
  },
  {
   "cell_type": "markdown",
   "id": "8ef03b6e",
   "metadata": {},
   "source": [
    "### Reasons for better approximation of w than theta are as follows:\n",
    "\n",
    "In a finite difference scheme for a system of PDEs, one output may be approximated more accurately than the other if the PDE and boundary conditions for that output contain less \"stiffness\" or variations over the solution space. For example, if one of the outputs has smooth solutions with slow variations, the finite difference scheme will have an easier time approximating it. On the other hand, if the other output has solutions that have sharp variations or \"stiffness\", the finite difference scheme will have a harder time approximating it and the solution may be less accurate.\n",
    "\n",
    "Also, The choice of the finite difference stencil for the discretization can also lead to some outputs having more accuracy or stability. Typically second order accurate schemes are more accurate than first order schemes and have more smooth solutions, thus leading to better approximation."
   ]
  },
  {
   "cell_type": "code",
   "execution_count": 10,
   "id": "91f68cff",
   "metadata": {},
   "outputs": [
    {
     "data": {
      "text/plain": [
       "[<matplotlib.lines.Line2D at 0x7fd1d755dee0>]"
      ]
     },
     "execution_count": 10,
     "metadata": {},
     "output_type": "execute_result"
    },
    {
     "data": {
      "image/png": "[encoded data removed]",
      "text/plain": [
       "<Figure size 432x288 with 1 Axes>"
      ]
     },
     "metadata": {
      "needs_background": "light"
     },
     "output_type": "display_data"
    }
   ],
   "source": [
    "plt.plot(x, w[:, -1])\n",
    "plt.plot(x, w_exact)"
   ]
  },
  {
   "cell_type": "code",
   "execution_count": 11,
   "id": "c218c73a",
   "metadata": {},
   "outputs": [
    {
     "data": {
      "text/plain": [
       "(315,)"
      ]
     },
     "execution_count": 11,
     "metadata": {},
     "output_type": "execute_result"
    }
   ],
   "source": [
    "x.shape"
   ]
  },
  {
   "cell_type": "code",
   "execution_count": 12,
   "id": "8f689f61",
   "metadata": {},
   "outputs": [],
   "source": [
    "θ_exact = (pi/2)*np.cos(x)*np.cos(1)"
   ]
  },
  {
   "cell_type": "code",
   "execution_count": 13,
   "id": "be06b66b",
   "metadata": {},
   "outputs": [
    {
     "data": {
      "text/plain": [
       "array([ 8.48704877e-01,  8.48662443e-01,  8.48535142e-01,  8.48322989e-01,\n",
       "        8.48026004e-01,  8.47644217e-01,  8.47177667e-01,  8.46626399e-01,\n",
       "        8.45990470e-01,  8.45269942e-01,  8.44464888e-01,  8.43575388e-01,\n",
       "        8.42601532e-01,  8.41543415e-01,  8.40401146e-01,  8.39174836e-01,\n",
       "        8.37864611e-01,  8.36470599e-01,  8.34992941e-01,  8.33431784e-01,\n",
       "        8.31787285e-01,  8.30059608e-01,  8.28248925e-01,  8.26355418e-01,\n",
       "        8.24379277e-01,  8.22320698e-01,  8.20179888e-01,  8.17957060e-01,\n",
       "        8.15652438e-01,  8.13266251e-01,  8.10798738e-01,  8.08250146e-01,\n",
       "        8.05620729e-01,  8.02910751e-01,  8.00120483e-01,  7.97250203e-01,\n",
       "        7.94300199e-01,  7.91270766e-01,  7.88162206e-01,  7.84974830e-01,\n",
       "        7.81708958e-01,  7.78364916e-01,  7.74943037e-01,  7.71443665e-01,\n",
       "        7.67867149e-01,  7.64213848e-01,  7.60484125e-01,  7.56678355e-01,\n",
       "        7.52796917e-01,  7.48840201e-01,  7.44808601e-01,  7.40702520e-01,\n",
       "        7.36522371e-01,  7.32268569e-01,  7.27941541e-01,  7.23541720e-01,\n",
       "        7.19069545e-01,  7.14525464e-01,  7.09909931e-01,  7.05223407e-01,\n",
       "        7.00466362e-01,  6.95639271e-01,  6.90742616e-01,  6.85776887e-01,\n",
       "        6.80742582e-01,  6.75640203e-01,  6.70470260e-01,  6.65233271e-01,\n",
       "        6.59929759e-01,  6.54560255e-01,  6.49125295e-01,  6.43625423e-01,\n",
       "        6.38061189e-01,  6.32433150e-01,  6.26741868e-01,  6.20987912e-01,\n",
       "        6.15171858e-01,  6.09294287e-01,  6.03355787e-01,  5.97356952e-01,\n",
       "        5.91298382e-01,  5.85180683e-01,  5.79004466e-01,  5.72770349e-01,\n",
       "        5.66478956e-01,  5.60130915e-01,  5.53726861e-01,  5.47267436e-01,\n",
       "        5.40753284e-01,  5.34185057e-01,  5.27563412e-01,  5.20889011e-01,\n",
       "        5.14162522e-01,  5.07384617e-01,  5.00555973e-01,  4.93677275e-01,\n",
       "        4.86749209e-01,  4.79772469e-01,  4.72747752e-01,  4.65675761e-01,\n",
       "        4.58557202e-01,  4.51392788e-01,  4.44183236e-01,  4.36929265e-01,\n",
       "        4.29631601e-01,  4.22290975e-01,  4.14908120e-01,  4.07483775e-01,\n",
       "        4.00018682e-01,  3.92513587e-01,  3.84969241e-01,  3.77386398e-01,\n",
       "        3.69765817e-01,  3.62108260e-01,  3.54414492e-01,  3.46685283e-01,\n",
       "        3.38921406e-01,  3.31123637e-01,  3.23292756e-01,  3.15429546e-01,\n",
       "        3.07534794e-01,  2.99609288e-01,  2.91653821e-01,  2.83669189e-01,\n",
       "        2.75656191e-01,  2.67615627e-01,  2.59548302e-01,  2.51455022e-01,\n",
       "        2.43336597e-01,  2.35193838e-01,  2.27027561e-01,  2.18838580e-01,\n",
       "        2.10627716e-01,  2.02395790e-01,  1.94143624e-01,  1.85872044e-01,\n",
       "        1.77581876e-01,  1.69273951e-01,  1.60949098e-01,  1.52608151e-01,\n",
       "        1.44251943e-01,  1.35881310e-01,  1.27497089e-01,  1.19100118e-01,\n",
       "        1.10691238e-01,  1.02271288e-01,  9.38411114e-02,  8.54015507e-02,\n",
       "        7.69534499e-02,  6.84976539e-02,  6.00350081e-02,  5.15663588e-02,\n",
       "        4.30925530e-02,  3.46144380e-02,  2.61328615e-02,  1.76486718e-02,\n",
       "        9.16271720e-03,  6.75846363e-04, -7.81109206e-03, -1.62972494e-02,\n",
       "       -2.47817770e-02, -3.32638264e-02, -4.17425495e-02, -5.02170984e-02,\n",
       "       -5.86866256e-02, -6.71502842e-02, -7.56072279e-02, -8.40566108e-02,\n",
       "       -9.24975882e-02, -1.00929316e-01, -1.09350951e-01, -1.17761651e-01,\n",
       "       -1.26160574e-01, -1.34546882e-01, -1.42919735e-01, -1.51278297e-01,\n",
       "       -1.59621730e-01, -1.67949202e-01, -1.76259879e-01, -1.84552930e-01,\n",
       "       -1.92827526e-01, -2.01082839e-01, -2.09318044e-01, -2.17532318e-01,\n",
       "       -2.25724838e-01, -2.33894787e-01, -2.42041346e-01, -2.50163701e-01,\n",
       "       -2.58261039e-01, -2.66332552e-01, -2.74377432e-01, -2.82394875e-01,\n",
       "       -2.90384078e-01, -2.98344243e-01, -3.06274574e-01, -3.14174277e-01,\n",
       "       -3.22042564e-01, -3.29878646e-01, -3.37681741e-01, -3.45451068e-01,\n",
       "       -3.53185850e-01, -3.60885314e-01, -3.68548689e-01, -3.76175210e-01,\n",
       "       -3.83764114e-01, -3.91314642e-01, -3.98826039e-01, -4.06297553e-01,\n",
       "       -4.13728438e-01, -4.21117950e-01, -4.28465351e-01, -4.35769906e-01,\n",
       "       -4.43030884e-01, -4.50247560e-01, -4.57419211e-01, -4.64545120e-01,\n",
       "       -4.71624576e-01, -4.78656869e-01, -4.85641297e-01, -4.92577162e-01,\n",
       "       -4.99463769e-01, -5.06300430e-01, -5.13086461e-01, -5.19821184e-01,\n",
       "       -5.26503926e-01, -5.33134017e-01, -5.39710796e-01, -5.46233604e-01,\n",
       "       -5.52701789e-01, -5.59114705e-01, -5.65471709e-01, -5.71772167e-01,\n",
       "       -5.78015448e-01, -5.84200927e-01, -5.90327988e-01, -5.96396016e-01,\n",
       "       -6.02404405e-01, -6.08352553e-01, -6.14239868e-01, -6.20065758e-01,\n",
       "       -6.25829643e-01, -6.31530945e-01, -6.37169095e-01, -6.42743528e-01,\n",
       "       -6.48253687e-01, -6.53699022e-01, -6.59078987e-01, -6.64393045e-01,\n",
       "       -6.69640664e-01, -6.74821320e-01, -6.79934494e-01, -6.84979675e-01,\n",
       "       -6.89956359e-01, -6.94864048e-01, -6.99702251e-01, -7.04470484e-01,\n",
       "       -7.09168271e-01, -7.13795141e-01, -7.18350633e-01, -7.22834290e-01,\n",
       "       -7.27245664e-01, -7.31584315e-01, -7.35849807e-01, -7.40041716e-01,\n",
       "       -7.44159620e-01, -7.48203109e-01, -7.52171779e-01, -7.56065232e-01,\n",
       "       -7.59883079e-01, -7.63624939e-01, -7.67290436e-01, -7.70879206e-01,\n",
       "       -7.74390888e-01, -7.77825131e-01, -7.81181593e-01, -7.84459937e-01,\n",
       "       -7.87659836e-01, -7.90780969e-01, -7.93823025e-01, -7.96785700e-01,\n",
       "       -7.99668696e-01, -8.02471726e-01, -8.05194510e-01, -8.07836775e-01,\n",
       "       -8.10398257e-01, -8.12878700e-01, -8.15277856e-01, -8.17595484e-01,\n",
       "       -8.19831354e-01, -8.21985241e-01, -8.24056931e-01, -8.26046215e-01,\n",
       "       -8.27952895e-01, -8.29776781e-01, -8.31517690e-01, -8.33175448e-01,\n",
       "       -8.34749889e-01, -8.36240855e-01, -8.37648199e-01, -8.38971778e-01,\n",
       "       -8.40211460e-01, -8.41367123e-01, -8.42438649e-01, -8.43425932e-01,\n",
       "       -8.44328873e-01, -8.45147382e-01, -8.45881377e-01, -8.46530784e-01,\n",
       "       -8.47095540e-01, -8.47575586e-01, -8.47970875e-01, -8.48281368e-01,\n",
       "       -8.48507034e-01, -8.48647849e-01, -8.48703801e-01])"
      ]
     },
     "execution_count": 13,
     "metadata": {},
     "output_type": "execute_result"
    }
   ],
   "source": [
    "θ_exact"
   ]
  },
  {
   "cell_type": "code",
   "execution_count": 14,
   "id": "c15528b8",
   "metadata": {},
   "outputs": [
    {
     "data": {
      "text/plain": [
       "array([[ 8.48704877e-01],\n",
       "       [ 8.48662443e-01],\n",
       "       [ 8.48535142e-01],\n",
       "       [ 8.48322989e-01],\n",
       "       [ 8.48026004e-01],\n",
       "       [ 8.47644217e-01],\n",
       "       [ 8.47177667e-01],\n",
       "       [ 8.46626399e-01],\n",
       "       [ 8.45990470e-01],\n",
       "       [ 8.45269942e-01],\n",
       "       [ 8.44464888e-01],\n",
       "       [ 8.43575388e-01],\n",
       "       [ 8.42601532e-01],\n",
       "       [ 8.41543415e-01],\n",
       "       [ 8.40401146e-01],\n",
       "       [ 8.39174836e-01],\n",
       "       [ 8.37864611e-01],\n",
       "       [ 8.36470599e-01],\n",
       "       [ 8.34992941e-01],\n",
       "       [ 8.33431784e-01],\n",
       "       [ 8.31787285e-01],\n",
       "       [ 8.30059608e-01],\n",
       "       [ 8.28248925e-01],\n",
       "       [ 8.26355418e-01],\n",
       "       [ 8.24379277e-01],\n",
       "       [ 8.22320698e-01],\n",
       "       [ 8.20179888e-01],\n",
       "       [ 8.17957060e-01],\n",
       "       [ 8.15652438e-01],\n",
       "       [ 8.13266251e-01],\n",
       "       [ 8.10798738e-01],\n",
       "       [ 8.08250146e-01],\n",
       "       [ 8.05620729e-01],\n",
       "       [ 8.02910751e-01],\n",
       "       [ 8.00120483e-01],\n",
       "       [ 7.97250203e-01],\n",
       "       [ 7.94300199e-01],\n",
       "       [ 7.91270766e-01],\n",
       "       [ 7.88162206e-01],\n",
       "       [ 7.84974830e-01],\n",
       "       [ 7.81708958e-01],\n",
       "       [ 7.78364916e-01],\n",
       "       [ 7.74943037e-01],\n",
       "       [ 7.71443665e-01],\n",
       "       [ 7.67867149e-01],\n",
       "       [ 7.64213848e-01],\n",
       "       [ 7.60484125e-01],\n",
       "       [ 7.56678355e-01],\n",
       "       [ 7.52796917e-01],\n",
       "       [ 7.48840201e-01],\n",
       "       [ 7.44808601e-01],\n",
       "       [ 7.40702520e-01],\n",
       "       [ 7.36522371e-01],\n",
       "       [ 7.32268569e-01],\n",
       "       [ 7.27941541e-01],\n",
       "       [ 7.23541720e-01],\n",
       "       [ 7.19069545e-01],\n",
       "       [ 7.14525464e-01],\n",
       "       [ 7.09909931e-01],\n",
       "       [ 7.05223407e-01],\n",
       "       [ 7.00466362e-01],\n",
       "       [ 6.95639271e-01],\n",
       "       [ 6.90742616e-01],\n",
       "       [ 6.85776887e-01],\n",
       "       [ 6.80742582e-01],\n",
       "       [ 6.75640203e-01],\n",
       "       [ 6.70470260e-01],\n",
       "       [ 6.65233271e-01],\n",
       "       [ 6.59929759e-01],\n",
       "       [ 6.54560255e-01],\n",
       "       [ 6.49125295e-01],\n",
       "       [ 6.43625423e-01],\n",
       "       [ 6.38061189e-01],\n",
       "       [ 6.32433150e-01],\n",
       "       [ 6.26741868e-01],\n",
       "       [ 6.20987912e-01],\n",
       "       [ 6.15171858e-01],\n",
       "       [ 6.09294287e-01],\n",
       "       [ 6.03355787e-01],\n",
       "       [ 5.97356952e-01],\n",
       "       [ 5.91298382e-01],\n",
       "       [ 5.85180683e-01],\n",
       "       [ 5.79004466e-01],\n",
       "       [ 5.72770349e-01],\n",
       "       [ 5.66478956e-01],\n",
       "       [ 5.60130915e-01],\n",
       "       [ 5.53726861e-01],\n",
       "       [ 5.47267436e-01],\n",
       "       [ 5.40753284e-01],\n",
       "       [ 5.34185057e-01],\n",
       "       [ 5.27563412e-01],\n",
       "       [ 5.20889011e-01],\n",
       "       [ 5.14162522e-01],\n",
       "       [ 5.07384617e-01],\n",
       "       [ 5.00555973e-01],\n",
       "       [ 4.93677275e-01],\n",
       "       [ 4.86749209e-01],\n",
       "       [ 4.79772469e-01],\n",
       "       [ 4.72747752e-01],\n",
       "       [ 4.65675761e-01],\n",
       "       [ 4.58557202e-01],\n",
       "       [ 4.51392788e-01],\n",
       "       [ 4.44183236e-01],\n",
       "       [ 4.36929265e-01],\n",
       "       [ 4.29631601e-01],\n",
       "       [ 4.22290975e-01],\n",
       "       [ 4.14908120e-01],\n",
       "       [ 4.07483775e-01],\n",
       "       [ 4.00018682e-01],\n",
       "       [ 3.92513587e-01],\n",
       "       [ 3.84969241e-01],\n",
       "       [ 3.77386398e-01],\n",
       "       [ 3.69765817e-01],\n",
       "       [ 3.62108260e-01],\n",
       "       [ 3.54414492e-01],\n",
       "       [ 3.46685283e-01],\n",
       "       [ 3.38921406e-01],\n",
       "       [ 3.31123637e-01],\n",
       "       [ 3.23292756e-01],\n",
       "       [ 3.15429546e-01],\n",
       "       [ 3.07534794e-01],\n",
       "       [ 2.99609288e-01],\n",
       "       [ 2.91653821e-01],\n",
       "       [ 2.83669189e-01],\n",
       "       [ 2.75656191e-01],\n",
       "       [ 2.67615627e-01],\n",
       "       [ 2.59548302e-01],\n",
       "       [ 2.51455022e-01],\n",
       "       [ 2.43336597e-01],\n",
       "       [ 2.35193838e-01],\n",
       "       [ 2.27027561e-01],\n",
       "       [ 2.18838580e-01],\n",
       "       [ 2.10627716e-01],\n",
       "       [ 2.02395790e-01],\n",
       "       [ 1.94143624e-01],\n",
       "       [ 1.85872044e-01],\n",
       "       [ 1.77581876e-01],\n",
       "       [ 1.69273951e-01],\n",
       "       [ 1.60949098e-01],\n",
       "       [ 1.52608151e-01],\n",
       "       [ 1.44251943e-01],\n",
       "       [ 1.35881310e-01],\n",
       "       [ 1.27497089e-01],\n",
       "       [ 1.19100118e-01],\n",
       "       [ 1.10691238e-01],\n",
       "       [ 1.02271288e-01],\n",
       "       [ 9.38411114e-02],\n",
       "       [ 8.54015507e-02],\n",
       "       [ 7.69534499e-02],\n",
       "       [ 6.84976539e-02],\n",
       "       [ 6.00350081e-02],\n",
       "       [ 5.15663588e-02],\n",
       "       [ 4.30925530e-02],\n",
       "       [ 3.46144380e-02],\n",
       "       [ 2.61328615e-02],\n",
       "       [ 1.76486718e-02],\n",
       "       [ 9.16271720e-03],\n",
       "       [ 6.75846363e-04],\n",
       "       [-7.81109206e-03],\n",
       "       [-1.62972494e-02],\n",
       "       [-2.47817770e-02],\n",
       "       [-3.32638264e-02],\n",
       "       [-4.17425495e-02],\n",
       "       [-5.02170984e-02],\n",
       "       [-5.86866256e-02],\n",
       "       [-6.71502842e-02],\n",
       "       [-7.56072279e-02],\n",
       "       [-8.40566108e-02],\n",
       "       [-9.24975882e-02],\n",
       "       [-1.00929316e-01],\n",
       "       [-1.09350951e-01],\n",
       "       [-1.17761651e-01],\n",
       "       [-1.26160574e-01],\n",
       "       [-1.34546882e-01],\n",
       "       [-1.42919735e-01],\n",
       "       [-1.51278297e-01],\n",
       "       [-1.59621730e-01],\n",
       "       [-1.67949202e-01],\n",
       "       [-1.76259879e-01],\n",
       "       [-1.84552930e-01],\n",
       "       [-1.92827526e-01],\n",
       "       [-2.01082839e-01],\n",
       "       [-2.09318044e-01],\n",
       "       [-2.17532318e-01],\n",
       "       [-2.25724838e-01],\n",
       "       [-2.33894787e-01],\n",
       "       [-2.42041346e-01],\n",
       "       [-2.50163701e-01],\n",
       "       [-2.58261039e-01],\n",
       "       [-2.66332552e-01],\n",
       "       [-2.74377432e-01],\n",
       "       [-2.82394875e-01],\n",
       "       [-2.90384078e-01],\n",
       "       [-2.98344243e-01],\n",
       "       [-3.06274574e-01],\n",
       "       [-3.14174277e-01],\n",
       "       [-3.22042564e-01],\n",
       "       [-3.29878646e-01],\n",
       "       [-3.37681741e-01],\n",
       "       [-3.45451068e-01],\n",
       "       [-3.53185850e-01],\n",
       "       [-3.60885314e-01],\n",
       "       [-3.68548689e-01],\n",
       "       [-3.76175210e-01],\n",
       "       [-3.83764114e-01],\n",
       "       [-3.91314642e-01],\n",
       "       [-3.98826039e-01],\n",
       "       [-4.06297553e-01],\n",
       "       [-4.13728438e-01],\n",
       "       [-4.21117950e-01],\n",
       "       [-4.28465351e-01],\n",
       "       [-4.35769906e-01],\n",
       "       [-4.43030884e-01],\n",
       "       [-4.50247560e-01],\n",
       "       [-4.57419211e-01],\n",
       "       [-4.64545120e-01],\n",
       "       [-4.71624576e-01],\n",
       "       [-4.78656869e-01],\n",
       "       [-4.85641297e-01],\n",
       "       [-4.92577162e-01],\n",
       "       [-4.99463769e-01],\n",
       "       [-5.06300430e-01],\n",
       "       [-5.13086461e-01],\n",
       "       [-5.19821184e-01],\n",
       "       [-5.26503926e-01],\n",
       "       [-5.33134017e-01],\n",
       "       [-5.39710796e-01],\n",
       "       [-5.46233604e-01],\n",
       "       [-5.52701789e-01],\n",
       "       [-5.59114705e-01],\n",
       "       [-5.65471709e-01],\n",
       "       [-5.71772167e-01],\n",
       "       [-5.78015448e-01],\n",
       "       [-5.84200927e-01],\n",
       "       [-5.90327988e-01],\n",
       "       [-5.96396016e-01],\n",
       "       [-6.02404405e-01],\n",
       "       [-6.08352553e-01],\n",
       "       [-6.14239868e-01],\n",
       "       [-6.20065758e-01],\n",
       "       [-6.25829643e-01],\n",
       "       [-6.31530945e-01],\n",
       "       [-6.37169095e-01],\n",
       "       [-6.42743528e-01],\n",
       "       [-6.48253687e-01],\n",
       "       [-6.53699022e-01],\n",
       "       [-6.59078987e-01],\n",
       "       [-6.64393045e-01],\n",
       "       [-6.69640664e-01],\n",
       "       [-6.74821320e-01],\n",
       "       [-6.79934494e-01],\n",
       "       [-6.84979675e-01],\n",
       "       [-6.89956359e-01],\n",
       "       [-6.94864048e-01],\n",
       "       [-6.99702251e-01],\n",
       "       [-7.04470484e-01],\n",
       "       [-7.09168271e-01],\n",
       "       [-7.13795141e-01],\n",
       "       [-7.18350633e-01],\n",
       "       [-7.22834290e-01],\n",
       "       [-7.27245664e-01],\n",
       "       [-7.31584315e-01],\n",
       "       [-7.35849807e-01],\n",
       "       [-7.40041716e-01],\n",
       "       [-7.44159620e-01],\n",
       "       [-7.48203109e-01],\n",
       "       [-7.52171779e-01],\n",
       "       [-7.56065232e-01],\n",
       "       [-7.59883079e-01],\n",
       "       [-7.63624939e-01],\n",
       "       [-7.67290436e-01],\n",
       "       [-7.70879206e-01],\n",
       "       [-7.74390888e-01],\n",
       "       [-7.77825131e-01],\n",
       "       [-7.81181593e-01],\n",
       "       [-7.84459937e-01],\n",
       "       [-7.87659836e-01],\n",
       "       [-7.90780969e-01],\n",
       "       [-7.93823025e-01],\n",
       "       [-7.96785700e-01],\n",
       "       [-7.99668696e-01],\n",
       "       [-8.02471726e-01],\n",
       "       [-8.05194510e-01],\n",
       "       [-8.07836775e-01],\n",
       "       [-8.10398257e-01],\n",
       "       [-8.12878700e-01],\n",
       "       [-8.15277856e-01],\n",
       "       [-8.17595484e-01],\n",
       "       [-8.19831354e-01],\n",
       "       [-8.21985241e-01],\n",
       "       [-8.24056931e-01],\n",
       "       [-8.26046215e-01],\n",
       "       [-8.27952895e-01],\n",
       "       [-8.29776781e-01],\n",
       "       [-8.31517690e-01],\n",
       "       [-8.33175448e-01],\n",
       "       [-8.34749889e-01],\n",
       "       [-8.36240855e-01],\n",
       "       [-8.37648199e-01],\n",
       "       [-8.38971778e-01],\n",
       "       [-8.40211460e-01],\n",
       "       [-8.41367123e-01],\n",
       "       [-8.42438649e-01],\n",
       "       [-8.43425932e-01],\n",
       "       [-8.44328873e-01],\n",
       "       [-8.45147382e-01],\n",
       "       [-8.45881377e-01],\n",
       "       [-8.46530784e-01],\n",
       "       [-8.47095540e-01],\n",
       "       [-8.47575586e-01],\n",
       "       [-8.47970875e-01],\n",
       "       [-8.48281368e-01],\n",
       "       [-8.48507034e-01],\n",
       "       [-8.48647849e-01],\n",
       "       [-8.48703801e-01]])"
      ]
     },
     "execution_count": 14,
     "metadata": {},
     "output_type": "execute_result"
    }
   ],
   "source": [
    "θ_exact = (pi/2)*np.cos(x)[:,None]*np.cos(1)\n",
    "θ_exact"
   ]
  },
  {
   "cell_type": "code",
   "execution_count": 15,
   "id": "35672c66",
   "metadata": {},
   "outputs": [],
   "source": [
    "# Exact solution\n",
    "θ_exact = np.cos(1)*(np.pi/2*np.cos(x)+(x-np.pi/2))\n",
    "w_exact = (pi/2)*np.sin(x)*np.cos(1)"
   ]
  },
  {
   "cell_type": "code",
   "execution_count": 16,
   "id": "d71cd1f8",
   "metadata": {},
   "outputs": [
    {
     "data": {
      "text/plain": [
       "[<matplotlib.lines.Line2D at 0x7fd1d74da850>]"
      ]
     },
     "execution_count": 16,
     "metadata": {},
     "output_type": "execute_result"
    },
    {
     "data": {
      "image/png": "[encoded data removed]",
      "text/plain": [
       "<Figure size 432x288 with 1 Axes>"
      ]
     },
     "metadata": {
      "needs_background": "light"
     },
     "output_type": "display_data"
    }
   ],
   "source": [
    "plt.plot(x, θ[:, -1])\n",
    "plt.plot(x, θ_exact)"
   ]
  },
  {
   "cell_type": "code",
   "execution_count": 17,
   "id": "dccf7933",
   "metadata": {},
   "outputs": [
    {
     "name": "stdout",
     "output_type": "stream",
     "text": [
      "Relative Error Test:  0.005615952269598582 %\n"
     ]
    }
   ],
   "source": [
    "exact_1 = w_exact\n",
    "Num_1 = w[:, -1]\n",
    "# Compute the relative L2 error norm (generalization error)\n",
    "relative_error_test = np.mean((Num_1 - exact_1)**2)/np.mean(exact_1**2)\n",
    "print(\"Relative Error Test: \", relative_error_test*100, \"%\")"
   ]
  },
  {
   "cell_type": "code",
   "execution_count": 18,
   "id": "757d8634",
   "metadata": {},
   "outputs": [
    {
     "name": "stdout",
     "output_type": "stream",
     "text": [
      "Relative Error Test:  0.0047339849300208695 %\n"
     ]
    }
   ],
   "source": [
    "exact_2 = θ_exact\n",
    "Num_2 = θ[:, -1]\n",
    "# Compute the relative L2 error norm (generalization error)\n",
    "relative_error_test_2 = np.mean((Num_2 - exact_2)**2)/np.mean(exact_2**2)\n",
    "print(\"Relative Error Test: \", relative_error_test_2*100, \"%\")"
   ]
  },
  {
   "cell_type": "code",
   "execution_count": null,
   "id": "8ff0eaeb",
   "metadata": {},
   "outputs": [],
   "source": []
  },
  {
   "cell_type": "code",
   "execution_count": null,
   "id": "9bd4475a",
   "metadata": {},
   "outputs": [],
   "source": []
  }
 ],
 "metadata": {
  "kernelspec": {
   "display_name": "pytorch",
   "language": "python",
   "name": "pytorch"
  },
  "language_info": {
   "codemirror_mode": {
    "name": "ipython",
    "version": 3
   },
   "file_extension": ".py",
   "mimetype": "text/x-python",
   "name": "python",
   "nbconvert_exporter": "python",
   "pygments_lexer": "ipython3",
   "version": "3.8.10"
  }
 },
 "nbformat": 4,
 "nbformat_minor": 5
}
