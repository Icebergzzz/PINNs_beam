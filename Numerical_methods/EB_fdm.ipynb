{
 "cells": [
  {
   "cell_type": "markdown",
   "id": "981b81f7",
   "metadata": {},
   "source": [
    "# correct matrix form"
   ]
  },
  {
   "cell_type": "code",
   "execution_count": 1,
   "id": "10608828",
   "metadata": {},
   "outputs": [],
   "source": [
    "import numpy as np\n",
    "import matplotlib.pyplot as plt\n",
    "from math import pi\n"
   ]
  },
  {
   "cell_type": "code",
   "execution_count": 2,
   "id": "891b2a8a",
   "metadata": {},
   "outputs": [],
   "source": [
    "# End of trying matrix form with small discretization"
   ]
  },
  {
   "cell_type": "markdown",
   "id": "0de98d7c",
   "metadata": {},
   "source": [
    "# More discretize points"
   ]
  },
  {
   "cell_type": "code",
   "execution_count": 3,
   "id": "6899b464",
   "metadata": {},
   "outputs": [],
   "source": [
    "# Again trying with correct domain"
   ]
  },
  {
   "cell_type": "code",
   "execution_count": 8,
   "id": "fb978fdd",
   "metadata": {},
   "outputs": [],
   "source": [
    "N = 70\n",
    "x = np.linspace(0, np.pi , N)\n",
    "dx = x[1]-x[0]\n",
    "x1 = np.linspace(0-dx, np.pi+dx, N+2)\n",
    "# Initial conditions\n",
    "\n",
    "u0 = 0*np.sin(x1)\n",
    "u_1 = 0*u0\n",
    "\n",
    "# Boundary conditions\n",
    "\n",
    "u0[0] = 0\n",
    "u0[-1] = 0\n",
    "\n",
    "u_2 = np.zeros(u0.shape)\n",
    "\n",
    "t = 0.0002\n",
    "tend = pi/2\n",
    "dt = 0.0001\n",
    "\n",
    "# Update time with dt for final time simulation \n",
    "\n",
    "while t<=tend:\n",
    "    #l = dt**2*(1-16*np.pi**2)*np.sin(x1[2:N-2])*np.cos(4*np.pi*t)\n",
    "    l = dt**2*np.exp(-pi*x1[2:N-2]-t)**2\n",
    "    u_2[2:N-2] = 2*u_1[2:N-2]-u0[2:N-2]+l-(dt**2)/(dx**4)*(u_1[4:N]-4*u_1[3:N-1]+6*u_1[2:N-2]-4*u_1[1:N-3]+u_1[0:N-4])\n",
    "\n",
    "    u_2[1]= 0   #BCs\n",
    "    u_2[-2]= 0  # BCs\n",
    "    u_2[0] = u_2[2]\n",
    "    u_2[-1] = u_2[-3]\n",
    "    \n",
    "    \n",
    "\n",
    "    u0 = u_1\n",
    "    u_1 = u_2\n",
    "    t = t+dt\n",
    "     "
   ]
  },
  {
   "cell_type": "code",
   "execution_count": 5,
   "id": "dcd28711",
   "metadata": {},
   "outputs": [
    {
     "name": "stdout",
     "output_type": "stream",
     "text": [
      "0.0023270026195078273\n"
     ]
    }
   ],
   "source": [
    "print(dt**2/dx**4) "
   ]
  },
  {
   "cell_type": "code",
   "execution_count": 9,
   "id": "5d47b1c1",
   "metadata": {},
   "outputs": [
    {
     "data": {
      "text/plain": [
       "[<matplotlib.lines.Line2D at 0x7fb30a869cd0>]"
      ]
     },
     "execution_count": 9,
     "metadata": {},
     "output_type": "execute_result"
    },
    {
     "data": {
      "image/png": "[encoded data removed]",
      "text/plain": [
       "<Figure size 432x288 with 1 Axes>"
      ]
     },
     "metadata": {
      "needs_background": "light"
     },
     "output_type": "display_data"
    }
   ],
   "source": [
    "Num = u_2[1:-2]\n",
    "exact = np.sin(x1[1:-2])*np.cos(4*np.pi*1)\n",
    "plt.plot(x1[1:-2], Num )\n",
    "plt.plot(x1[1:-2], exact)\n",
    "\n"
   ]
  },
  {
   "cell_type": "code",
   "execution_count": 10,
   "id": "8e2c1da9",
   "metadata": {},
   "outputs": [
    {
     "name": "stdout",
     "output_type": "stream",
     "text": [
      "Relative Error Test:  99.99987965896229 %\n"
     ]
    }
   ],
   "source": [
    "\n",
    "# Compute the relative L2 error norm (generalization error)\n",
    "relative_error_test = np.mean((Num - exact)**2)/np.mean(exact**2)\n",
    "print(\"Relative Error Test: \", relative_error_test*100, \"%\")"
   ]
  },
  {
   "cell_type": "code",
   "execution_count": 11,
   "id": "884e9d2d",
   "metadata": {},
   "outputs": [
    {
     "name": "stderr",
     "output_type": "stream",
     "text": [
      "/tmp/ipykernel_6633/3574306257.py:24: RuntimeWarning: overflow encountered in true_divide\n",
      "  return (u[:-4] - 4*u[1:-3] + 6*u[2:-2] - 4*u[3:-1] + u[4:]) / dx**4\n",
      "/tmp/ipykernel_6633/3574306257.py:32: RuntimeWarning: invalid value encountered in subtract\n",
      "  u[2:-2, 2] = 2*u[2:-2, 1] - u[2:-2, 0] + dt**2*u_xx - dt**2*np.exp(-np.pi*(x[2:-2]-n*dt)**2)\n",
      "/tmp/ipykernel_6633/3574306257.py:24: RuntimeWarning: invalid value encountered in subtract\n",
      "  return (u[:-4] - 4*u[1:-3] + 6*u[2:-2] - 4*u[3:-1] + u[4:]) / dx**4\n",
      "/tmp/ipykernel_6633/3574306257.py:24: RuntimeWarning: invalid value encountered in add\n",
      "  return (u[:-4] - 4*u[1:-3] + 6*u[2:-2] - 4*u[3:-1] + u[4:]) / dx**4\n"
     ]
    },
    {
     "data": {
      "image/png": "[encoded data removed]",
      "text/plain": [
       "<Figure size 432x288 with 1 Axes>"
      ]
     },
     "metadata": {
      "needs_background": "light"
     },
     "output_type": "display_data"
    }
   ],
   "source": [
    "import numpy as np\n",
    "import matplotlib.pyplot as plt\n",
    "\n",
    "# Define problem parameters\n",
    "L = np.pi  # length of the domain\n",
    "T = 1.0    # total simulation time\n",
    "Nx = 100   # number of grid points in space\n",
    "Nt = 1000  # number of time steps\n",
    "dx = L/(Nx-1)  # spatial step size\n",
    "dt = T/Nt      # time step size\n",
    "x = np.linspace(0, L, Nx)  # spatial grid\n",
    "\n",
    "# Define the initial conditions\n",
    "u = np.zeros((Nx, 3))  # initialize u with three columns for the leapfrog method\n",
    "u[:, 0] = np.exp(-np.pi*x**2)  # u(x, 0)\n",
    "u[:, 1] = u[:, 0] - 0.5*dt**2*np.exp(-np.pi*(x-dt)**2)  # u_t(x, 0)\n",
    "\n",
    "# Define the boundary conditions\n",
    "u[0, :] = 0\n",
    "u[-1, :] = 0\n",
    "\n",
    "# Define the second order central difference operator for the fourth derivative\n",
    "def D4(u, dx):\n",
    "    return (u[:-4] - 4*u[1:-3] + 6*u[2:-2] - 4*u[3:-1] + u[4:]) / dx**4\n",
    "\n",
    "# Perform the time integration using the leapfrog method\n",
    "for n in range(1, Nt+1):\n",
    "    # Compute the second spatial derivative using central difference\n",
    "    u_xx = D4(u[:, 0], dx)\n",
    "    \n",
    "    # Update u using the leapfrog method\n",
    "    u[2:-2, 2] = 2*u[2:-2, 1] - u[2:-2, 0] + dt**2*u_xx - dt**2*np.exp(-np.pi*(x[2:-2]-n*dt)**2)\n",
    "    \n",
    "    # Apply the boundary conditions\n",
    "    u[0, 2] = u[-1, 2] = u[1, 2] = u[-2, 2] = 0\n",
    "    u[2, 2] = u[2, 1] + dx**2/12*u_xx[0]  # u_xx(0, t)\n",
    "    u[-3, 2] = u[-3, 1] + dx**2/12*u_xx[-1]  # u_xx(pi, t)\n",
    "    \n",
    "    # Update u for the next time step\n",
    "    u[:, 0] = u[:, 1]\n",
    "    u[:, 1] = u[:, 2]\n",
    "\n",
    "# Plot the solution\n",
    "plt.plot(x, u[:, 2])\n",
    "plt.xlabel('x')\n",
    "plt.ylabel('u(x, T)')\n",
    "plt.show()\n"
   ]
  },
  {
   "cell_type": "code",
   "execution_count": 12,
   "id": "943c2f6f",
   "metadata": {},
   "outputs": [],
   "source": [
    "import numpy as np\n",
    "import matplotlib.pyplot as plt\n",
    "\n",
    "# Define problem parameters\n",
    "L = np.pi  # length of the domain\n",
    "T = np.pi  # total simulation time\n",
    "Nx = 100   # number of grid points in space\n",
    "Nt = 1000  # number of time steps\n",
    "dx = L/(Nx-1)  # spatial step size\n",
    "dt = T/Nt      # time step size\n",
    "x = np.linspace(0, L, Nx)  # spatial grid\n",
    "\n",
    "# Define the initial conditions\n",
    "u = np.zeros((Nx, 3))  # initialize u with three columns for the leapfrog method\n",
    "u[:, 0] = 0              # u(x, 0)\n",
    "u[:, 1] = 0              # u_t(x, 0)\n",
    "\n",
    "# Define the boundary conditions\n",
    "u[0, :] = 0\n",
    "u[-1, :] = 0\n",
    "\n",
    "# Define the second order central difference operator for the fourth derivative\n",
    "def D4(u, dx):\n",
    "    return (u[:-4] - 4*u[1:-3] + 6*u[2:-2] - 4*u[3:-1] + u[4:]) / dx**4\n",
    "\n",
    "# Perform the time integration using the leapfrog method\n",
    "for n in range(1, Nt+1):\n",
    "    # Compute the second spatial derivative using central difference\n",
    "    u_xx = D4(u[:, 0], dx)\n",
    "    \n",
    "    # Update u using the leapfrog method\n",
    "    u[2:-2, 2] = 2*u[2:-2, 1] - u[2:-2, 0] + dt**2*u_xx - dt**2*np.exp(-np.pi*(x[2:-2]-n*dt)**2)\n",
    "    \n",
    "    # Apply the boundary conditions\n",
    "    u[0, 2] = u[-1, 2] = u[1, 2] = u[-2, 2] = 0\n",
    "    u[2, 2] = u[2, 1] + dx\n",
    "\n"
   ]
  },
  {
   "cell_type": "code",
   "execution_count": null,
   "id": "5467b2be",
   "metadata": {},
   "outputs": [],
   "source": [
    "u"
   ]
  },
  {
   "cell_type": "code",
   "execution_count": null,
   "id": "cef13249",
   "metadata": {},
   "outputs": [],
   "source": []
  }
 ],
 "metadata": {
  "kernelspec": {
   "display_name": "Python 3 (ipykernel)",
   "language": "python",
   "name": "python3"
  },
  "language_info": {
   "codemirror_mode": {
    "name": "ipython",
    "version": 3
   },
   "file_extension": ".py",
   "mimetype": "text/x-python",
   "name": "python",
   "nbconvert_exporter": "python",
   "pygments_lexer": "ipython3",
   "version": "3.9.7"
  }
 },
 "nbformat": 4,
 "nbformat_minor": 5
}
